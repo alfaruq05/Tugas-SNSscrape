{
  "nbformat": 4,
  "nbformat_minor": 0,
  "metadata": {
    "colab": {
      "provenance": [],
      "authorship_tag": "ABX9TyM9atvHoVqOwyoAg7utp/mk"
    },
    "kernelspec": {
      "name": "python3",
      "display_name": "Python 3"
    },
    "language_info": {
      "name": "python"
    }
  },
  "cells": [
    {
      "cell_type": "markdown",
      "source": [
        "# **PROSES KLASTERING DATA TWITTER**\n",
        "**Keyword \"JAKI\"**\n",
        "\n"
      ],
      "metadata": {
        "id": "fYn3zfMkxURv"
      }
    },
    {
      "cell_type": "markdown",
      "source": [
        "***Install Library SNSscrape***"
      ],
      "metadata": {
        "id": "A8utboKk5Eix"
      }
    },
    {
      "cell_type": "code",
      "execution_count": 1,
      "metadata": {
        "colab": {
          "base_uri": "https://localhost:8080/"
        },
        "id": "qSeDmrqpwXJC",
        "outputId": "8888fea2-09f8-43c5-cc82-5debfb387d12"
      },
      "outputs": [
        {
          "output_type": "stream",
          "name": "stdout",
          "text": [
            "Looking in indexes: https://pypi.org/simple, https://us-python.pkg.dev/colab-wheels/public/simple/\n",
            "Collecting snscrape\n",
            "  Downloading snscrape-0.3.4-py3-none-any.whl (35 kB)\n",
            "Requirement already satisfied: requests[socks] in /usr/local/lib/python3.7/dist-packages (from snscrape) (2.23.0)\n",
            "Requirement already satisfied: beautifulsoup4 in /usr/local/lib/python3.7/dist-packages (from snscrape) (4.6.3)\n",
            "Requirement already satisfied: lxml in /usr/local/lib/python3.7/dist-packages (from snscrape) (4.9.1)\n",
            "Requirement already satisfied: urllib3!=1.25.0,!=1.25.1,<1.26,>=1.21.1 in /usr/local/lib/python3.7/dist-packages (from requests[socks]->snscrape) (1.24.3)\n",
            "Requirement already satisfied: idna<3,>=2.5 in /usr/local/lib/python3.7/dist-packages (from requests[socks]->snscrape) (2.10)\n",
            "Requirement already satisfied: chardet<4,>=3.0.2 in /usr/local/lib/python3.7/dist-packages (from requests[socks]->snscrape) (3.0.4)\n",
            "Requirement already satisfied: certifi>=2017.4.17 in /usr/local/lib/python3.7/dist-packages (from requests[socks]->snscrape) (2022.9.24)\n",
            "Requirement already satisfied: PySocks!=1.5.7,>=1.5.6 in /usr/local/lib/python3.7/dist-packages (from requests[socks]->snscrape) (1.7.1)\n",
            "Installing collected packages: snscrape\n",
            "Successfully installed snscrape-0.3.4\n"
          ]
        }
      ],
      "source": [
        "!pip3 install snscrape"
      ]
    },
    {
      "cell_type": "markdown",
      "source": [
        "***Install Library langdetect***"
      ],
      "metadata": {
        "id": "pcvhMuvTxpLW"
      }
    },
    {
      "cell_type": "code",
      "source": [
        "pip install langdetect"
      ],
      "metadata": {
        "colab": {
          "base_uri": "https://localhost:8080/"
        },
        "id": "g2huCvUTw44r",
        "outputId": "afe51fa5-86bf-4a45-b889-c0a9bd21f683"
      },
      "execution_count": 2,
      "outputs": [
        {
          "output_type": "stream",
          "name": "stdout",
          "text": [
            "Looking in indexes: https://pypi.org/simple, https://us-python.pkg.dev/colab-wheels/public/simple/\n",
            "Collecting langdetect\n",
            "  Downloading langdetect-1.0.9.tar.gz (981 kB)\n",
            "\u001b[K     |████████████████████████████████| 981 kB 5.3 MB/s \n",
            "\u001b[?25hRequirement already satisfied: six in /usr/local/lib/python3.7/dist-packages (from langdetect) (1.15.0)\n",
            "Building wheels for collected packages: langdetect\n",
            "  Building wheel for langdetect (setup.py) ... \u001b[?25l\u001b[?25hdone\n",
            "  Created wheel for langdetect: filename=langdetect-1.0.9-py3-none-any.whl size=993242 sha256=697a0297ec2b7a18e3efe803ef540371a0676937f25e919aafacfcb2ed059060\n",
            "  Stored in directory: /root/.cache/pip/wheels/c5/96/8a/f90c59ed25d75e50a8c10a1b1c2d4c402e4dacfa87f3aff36a\n",
            "Successfully built langdetect\n",
            "Installing collected packages: langdetect\n",
            "Successfully installed langdetect-1.0.9\n"
          ]
        }
      ]
    },
    {
      "cell_type": "markdown",
      "source": [
        "***Import snscrape.modules.twitter and json.***"
      ],
      "metadata": {
        "id": "x8VqqPjI5TF3"
      }
    },
    {
      "cell_type": "code",
      "source": [
        "import snscrape.modules.twitter as stw\n",
        "import json\n",
        "from langdetect import detect"
      ],
      "metadata": {
        "id": "9jXmTvenxRJU"
      },
      "execution_count": 3,
      "outputs": []
    },
    {
      "cell_type": "markdown",
      "source": [
        "***Menentukan Query***"
      ],
      "metadata": {
        "id": "F5N-uDEA5WS2"
      }
    },
    {
      "cell_type": "code",
      "source": [
        "keywords=['jaki']\n",
        "start=\"2022–16–15\"\n",
        "end =\"2022–17–15\"\n",
        "max_num=300\n",
        "fname='tweet.json' \n",
        "languages=['id','en']"
      ],
      "metadata": {
        "id": "XKJAgaHqyLMP"
      },
      "execution_count": 19,
      "outputs": []
    },
    {
      "cell_type": "markdown",
      "source": [
        "***Import library Pandas***"
      ],
      "metadata": {
        "id": "Y4Oby2E_5cEi"
      }
    },
    {
      "cell_type": "code",
      "source": [
        "import pandas as pd\n",
        "datatwitt=[]"
      ],
      "metadata": {
        "id": "Xe3afdQ8yUY-"
      },
      "execution_count": 20,
      "outputs": []
    },
    {
      "cell_type": "markdown",
      "source": [
        "# **Memulai Scraping**"
      ],
      "metadata": {
        "id": "CYPBfiGb5ggX"
      }
    },
    {
      "cell_type": "code",
      "source": [
        "for keyword in keywords:\n",
        "   \n",
        "    for i, tweet in enumerate (stw.TwitterSearchScraper(f'{keyword} ').get_items()):\n",
        "        \n",
        "        try:\n",
        "            lan=detect(tweet.content)\n",
        "        except:\n",
        "            lan='error'\n",
        "        if i == max_num:\n",
        "            break\n",
        "        if lan in languages:\n",
        "            data = {'id': tweet.id, 'username':tweet.username, 'date': tweet.date, 'text': tweet.content,'url':tweet.url}\n",
        "           # print(data)\n",
        "            datatwitt.append(tweet.content)\n",
        "            with open(fname, 'a+', encoding='utf-8') as f:\n",
        "                line = json.dumps(data, ensure_ascii=False,default=str)\n",
        "                #print(line)\n",
        "                f.write(line)\n",
        "                f.write('\\n')"
      ],
      "metadata": {
        "id": "aQ4-cr7WyX6m"
      },
      "execution_count": 21,
      "outputs": []
    },
    {
      "cell_type": "code",
      "source": [
        "datatwitt"
      ],
      "metadata": {
        "colab": {
          "base_uri": "https://localhost:8080/"
        },
        "id": "LQtJ2ouKyh0u",
        "outputId": "410aa2fa-66dd-4e58-f7e2-697240fbd5b6"
      },
      "execution_count": 22,
      "outputs": [
        {
          "output_type": "execute_result",
          "data": {
            "text/plain": [
              "['@arifinpribadi @CNNIndonesia Ada JAKI, cukup modal kuota sedikit dan responnya lebih cepat dibanding kena macet dan kepanasan/kehujanan utk dateng ke balaikota',\n",
              " '(COD) Converse 70S HI Black White Egret 100% Original Sneakers Casual Pria Wanita\\n\\n➖ Diskon 31% Rate 4.8 ⭐\\n🔗 https://t.co/J5TOJjcyWQ\\n\\nREST OF MY LIFE Semoga 2025 Editan Baekhyun Wamil ITZY JAKI LE SSERAFIM #apobangpo #SMTreatRENJUNBetter #MEWxSUHO #BTSJIN https://t.co/sReTMntb4I',\n",
              " 'Selamat Malam Lampung Timur,\\nJika kamu jadi chef dan punya restoran, makanan apa yang akan kamu sajikan?\\n\\nKode Referral SeaBank : FBDBCA\\n\\nJAKI',\n",
              " '@asumsico Kan ada JAKI pak',\n",
              " 'Era jahiliah:\\nBuka aplikasi JAKI laporkan, respon realtime, langsung tindakan\\n\\nEra Digital:\\nBrgkt dr rmh naik Jaklingko (Rp 0,- gak tau nanti?), nyambung busway turun dihalte dpn balkot, antri, aduan dicatat, tunggu disposisi ke dinas yg terkait.. 🙃\\nKemajuan versi Yusuf DumbDumb',\n",
              " '@TheSprinklesCat Happy Gotcha Day Sprinkles 😻😺😽 Jaki 🐈 😽 🎂🎉🎁 #CatsOfTwitter',\n",
              " 'black &amp; white outfit reccommendation \\U0001f90d🖤\\n\\n—thread \\n\\nbangtan we will wait for you army jaki nokia semoga 2025 editan editan wamil seokjin itzy sarah ipad macbook pinggang slingbag racun shopee jakarta indonesia senin murah voting kepribadian ootd outfit #ForeverWithBTS #apobangpo https://t.co/Uqm514sCBQ',\n",
              " '@CNNIndonesia Ada Jaki, buat apa buka lapak lagi?',\n",
              " '@BlindPebbles 🐾🐾 agreed Pebbles 😻 Jaki 🐈 #CatsOfTwitter',\n",
              " '@Assislovee @DileepBi @actresspalace7 @ActrezzzWorld @MemesZone1234 @menMoansC @kjohn7243 @shanuu786 @halwathundu2 @celebassworld @zemo_actress Jaki',\n",
              " '@A_dmitri_moskwa @kurawa Jaki ga ngaruh... emang si jaki bisa ngobtrol pelayanan masyarakat dari lurah sama camat?',\n",
              " '@ytta6_ @Tan_Mar3M @aniesbaswedan Emang semua warga @DKIJakarta pake tuh si JAKI❓\\n🤮🤮🤮🤮',\n",
              " '@DKIJakarta Sayang pj gubernurnya punya pemikiran terbalik, udah bener lewat jaki malah balik lagi ke zaman batu..!https://t.co/cpbhNO75yx',\n",
              " '#casting #infocasting #castingiklan #castingibu #castinganak #castingjakarta #castingindonesia #modelibu #modelanak #modeljakarta #talentibu #talentanak #talentjakarta #ibu #anak #jakarta Km 50 #IndonesiaMemanggil JAKI https://t.co/YZiqQHjYok',\n",
              " 'JAKI PIĘKNY BOŻE https://t.co/nSr3Ng15zu',\n",
              " 'Di peradaban dunia yg sudah modern ada cara termudah berupa aplikasi JAKI utk layani aduan warga DKI, eh malah ada manusia purba yg pengin cara² jaman batu dibuka kembali metode kuno macam ini,,\\nDemi apa coba kira²?? https://t.co/peDsOKJyc5',\n",
              " 'OBEJRZAŁAM TEN ODCINEK I JAPIERDOLEEE AEGON JAK PIĘKNIE WYGLĄDAŁ W CZARNYM STROJU JSJDNSNSNDNDJ I W TEJ KORONIE PLS JAKI ON ŚLICZNY',\n",
              " '@oposan007 @ely_ahrens @DKIJakarta Jaman Ahok pengaduan bs lewat aplikasi Qlue (yg entah knp tiba2 nongol tiruannya : JAKI), dan bs datang lgs ke balkot buat warga yang ga punya HP atau gaptek . Gubernur yg luar biasa, bekerja utk rakyat👍, ga kayak yg baru lengser kmrn, ga jelas ngapain aja selama 5 th',\n",
              " 'PEMBANTAIAN GALUNG LOMBOK\\n\\ngubernur dki jakarta qatar sarah editan km 50 tgupp Putri Candrawathi #KagagalanAniesituNyata #JKWIngkarJanji nokia blitar jaki wamil MacBook ipad \\nhttps://t.co/oDK4QRNwdK',\n",
              " '@VIVAcoid Kembali kezaman purba,buat apa aplikasi jaki yg bisa diaplikasikan tanpa batas ruang dan waktu.',\n",
              " '@CNNIndonesia Udah ada #jaki yg canggih sebagai CMR padahal ,lebih tercontrol',\n",
              " 'JAKI SŁODZIAK NO NIE MOGE https://t.co/yJ302Sb9y8',\n",
              " '@hansssolo Anda bukan warga Jakarta kan ? Pantesan gak paham. Baca tingkat kepuasan warga Jakarta atas kinerja Anies Baswedan. Justeru warga merasa lebih efektif dengan adanya JAKI. Yang di Pulau seribu harus datang ke Balai Kota ?🤣🤣🤣',\n",
              " '@sobatatap @VIVAcoid Cara modern JAKI cuma unt pesan PSK doang Cuk.....bukan unt apa2.....',\n",
              " '✨Rekomendasi Backpack Wanita✨\\n🛍 https://t.co/uwaE2k2mY8 | ⭐ 4.9\\n\\ntags editan sarah macbook ipad semoga 2025 wamil we trust you baekhyun itzy soyeon nokia le sserafim jaki #MEWxSUHO https://t.co/4FmEttsgOv',\n",
              " '@SemutMerah2024 @detikcom @aniesbaswedan Alaah.... Aplikasi cuma merubah nama, dari Qlue ke jaki doank... 😅😅😂😂😂🤣🤣🤣🤣',\n",
              " '@detikcom Ini tapi JAKI nya masih tetep atau diberhentikan?',\n",
              " '@Josh001J @Psalm__ii @MkenyaMzi You can gerrit I can gerrit',\n",
              " 'https://t.co/MdH3bcaU45\\n\\nPj Gubernur DKI Jakarta, Heru Budi Hartono, mau membuka lagi meja pengaduan masyarakat yang pernah ada di era Ahok. Bagaimana pengaduan lewat aplikasi JAKI?',\n",
              " 'Celana Boyfriend Jeans🛒\\n📎https://t.co/2q2BmbEmnd\\n\\nTags. KM 50 . Sarah . Editan . Putri Candrawathi . Blitar . Nokia . Baekhyun . Gubernur DKI Jakarta . Pinggang . Semoga 2025 . JAKI . Wamil . ITZY . TGUPP . Nico Robin #JKWIngkarJanji #SBYTurunGunung #jeketiselcaday https://t.co/Um4jIyuhcr',\n",
              " '@detikcom Kembali ke jaman batu, Malu ya pakai karya Anies lewat aplikasi JAKI, hanya dengan sentuhan jari, tanpa harus naik ojek, panas, becek, eh sampai di balaikota kena maki ta*k.',\n",
              " '@esyens @detikcom Allaaah aplikasi cuma gantiin nama doank., dari Qlue di ubah jd jaki... Emang gotbener yg gak mau ribet ngurusin warga nya... 😀😀😀🤣',\n",
              " '@CNNIndonesia kan ada jaki her 😔',\n",
              " '@VIVAcoid @VIVAcoid Gaptek ya kalian??\\nBuat pengaduan sudah ada aplikasi Jaki simple, respon dan tindakannya cepat, Ga usah berdesakan dan Antri..',\n",
              " 'Padahal udah ada JAKI. Kembali lagi ke jaman batu 😂 https://t.co/NiFyW5R8WY',\n",
              " '@CNNIndonesia @Syifazzzzzzz Ada Jaki, pernah bberapa kali lapor slesai, dan semua tercatat prosesnya',\n",
              " '@Uki23 Balik ke jaman flintstone ye ki...Dah canggih2 dibikin, apalagi jaman covid kudu jaga jarak... Eh  tetiba gub give away balik ke jaman batu lagi😀.informasi aja,balai kota jaman anies ttap dibuka kok,hanya saja orang dah pada canggih n juga aturan jg jarak covid,pake JAKI lah.',\n",
              " '@VIVAcoid Tolong pak heru dibuatin twitter biar diajarin cara pake jaki. Atau bisa juga pengaduan langsung ke pak heru via twitter.',\n",
              " 'BravoCon was so worth it &amp; actually the best thing ever if you’re debating going next year, go :)',\n",
              " '@RetroGamer_Mag Alien Crush, Devil Crash, Jaki Crush.\\n\\nThere may be a tiny theme going on there. They were very good.',\n",
              " '@Miduk17 Jhon ini Gobloknya kaya pipa Rucika.. \\nUdah ada Aplikasi JAKI Online yg  terbaik se-Asia Tenggara.. malah pilih yg PRIMITIVE 🤣',\n",
              " '@_TIONO_TIONO_ @CNNIndonesia JAKI mungkin bagus utk laporan mengenai lingkungan.\\nKl yg ke balaikota mungkin lbh dikhususkan utk yg tdk tertangani oleh app JAKI.',\n",
              " 'SKINTIFIC - 5X Ceramide Barrier Repair Series Moisturize Gel Moisturizer Cream Pemutih Wajah 30G Pelembab Wajah Day Cream https://t.co/cD6LnOgprv \\n\\nT. Bangtan wamil seokjin pinggang Sarah MacBook jaki Nokia iPad soyeon Hailey Selena semoga 2025 bighit itzy\\n\\n#ShopeeID https://t.co/jdGp5bH7VC',\n",
              " '@Uki23 Di jateng aja jg pake aplikasi laporgub, sama kayak jakarta pake jaki karena aduan langsung udah jadul. Standar ganda sekali. Kuliah luar negri outputnya politisi kayak gini doang? Mending jadi admin lambe turah lu.',\n",
              " \"FVCK I'M SO IN LOVE WITH THIS MAN https://t.co/fOT62pyRRB\",\n",
              " '@RaPaimo @VIVAcoid Sebelum ada JAKI juga ada QLU, Itu jaki apaan banjir aja pake Toa',\n",
              " '@Uki23 Mau bikin panggung ludruk lagi di era digitalisasi Ki? \\nTerus buat apa aplikasi JAKI? \\n\\nMau menghidupkan lagi Feodalisme? \\n\\nMangkrak! ☝️😌',\n",
              " '@GunRomli Ada aplikasi jaki mas. Pasti kamu ga pernah tau atau emang ga mau tau.',\n",
              " '@rarajuseyook ksian u dah banyak sial',\n",
              " '@GunRomli Di bikin ulang jadi jaki bukan?',\n",
              " 'Splinter Cell Remake Game Director Leaves Ubisoft after 11 years.\\n\\n#gaming_news #gamenews #ubisoft #splintercellremake #splintercell #mabar #GoodByeNasdemAnies #JAKI \\n\\nhttps://t.co/CfSAjJfIkf',\n",
              " '@kpopcuratorph Enhypen green.. https://t.co/xWOTJlibgP',\n",
              " '@detikcom Bukannya udah ada JAKI? 🙏🏽',\n",
              " 'Check our recommendations for fun offline RPG games to play today!\\n\\n#gamelist #listicle #offlinegames #gamenews #gamingnews #gaming_news #mabar #GoodByeNasdemAnies #JAKI \\n\\nhttps://t.co/mLk6z0hIEH',\n",
              " '@yudiwijayaa @TheReal_Rizkhy @detikcom @aniesbaswedan Jaman ahok ada QLUE...yang kemudian diganti nama sma wan abud jadi Jaki.',\n",
              " '@detikcom Yg dateng palingan cuman cebong2 aja...kalau warga smart mah tinggal pake Aplikasi Jaki.. Pengaduan beres👍',\n",
              " 'Selamat Petang Gianyar ,\\nJika hewan bisa bicara, apa yang akan kamu tanyakan pada mereka?\\n\\nDownload SeaBank masukan kode Referral : FBDBCA\\ndapat Hadiah tunai Rp 15rb\\n\\nJAKI',\n",
              " '@CNNIndonesia Teknologi sdh maju beberapa langkah, ini malah mundur. Apa gengsi dg ide brilian Pak Anies pake Jaki... 🤣🤣🤣',\n",
              " '@xcottoncandy4 JAKI CUDOWNYYYYY😭😭😭',\n",
              " 'Konami teases new Silent Hill game\\n\\n#konami #silenthill #game #gamenews #gaming_news #horrorgame #mabar #GoodByeNasdemAnies #JAKI \\n\\nhttps://t.co/SrZijnhoTH',\n",
              " '@hhamdisofyan @Phiohyash @detikcom @RosidinBrawija3 Tau QLUE gak drun? Udah ada jaman ahok....trus dignti nama jaki sama wan abud😁😁😁...maklum mampunya cuma ganti nama.',\n",
              " '@A100888 @cryptorhinoznft https://t.co/QhDd6ibewT',\n",
              " 'Jam 23:00 Wib Sampdoria vs Roma, ini Prediksinya👇\\n\\n#ForeverWithBTS\\n#apobangpo\\nBangtan\\n#BrightWinConcert\\nJAKI\\nWE WILL WAIT FOR YOU\\nREST OF MY LIFE\\nARMY\\n#Nxde\\nSampdoria vs Roma in the Italian League tonight at Luigi Ferraris https://t.co/3iVQZw8caZ',\n",
              " '@yusuf_dumdum Kan ada aplikasi Jaki...\\n\\nGimanee dah',\n",
              " '@lupadiri0_0 @LaporGub_ @jaki @ABisaapa @SuryadiGatot @NobowoNonowo @SugihTonpoBondo @JarnasABW @SaveAhok @TetapAhok Jangan Lupa Senyum 👍 https://t.co/iAywpcnefL',\n",
              " '@netralitasrakyt @detikcom krn jaki ga guna',\n",
              " '@xniaaw cantik parah',\n",
              " 'Mantap kan Pa Heru Budi PJ Gubernur DKI membuka lagi meja aduan warga spt era Ahok 😍\\n\\nGa kayak si capres #Nasdrun pas jd gub malah balai kota di tutup gorden putih ga mau di datengin warga krn gk punya solusi 🤣 malah suruh ngadu ke aplikasi JAKI 😜 https://t.co/AUkPVsFviW',\n",
              " '@detikcom Aplikasi JAKI sudah dapat penghargaan dari Singapura.. Ini malah mundur ke Jaman Flinstone..  PRIMITIV 🤣',\n",
              " '@OnlyFrens Gpp, insyaAllah sepi kecuali dikondisiin. JakLapor JAKI sdh cukup mumpuni tp inovasi jgn pernah berhenti, harus terus menerus ditingkatkan krn dunia IT pergerakannya cepet banget.',\n",
              " '@hugwhoops aku dah fast resp dia malah pamit',\n",
              " '@jarkpongseong WKSJWKKWJWKW GUE JADI INGET PERNAH BIKIN FEKCET MA JAKI GARA2 ITU FOTO',\n",
              " '@hhamdisofyan @detikcom @RosidinBrawija3 Woi tolol...jaman ahok juga ada namanya QLUE ..tahu drun? Kalo pengaduan ke balaikota sifatnya pribadi drun...misal anak mau skeolah ga ada biaya...tanah diserobot orang...paham ga drun? Lo lapor ke jaki masalah pribadi....mana mau diurusin drun..',\n",
              " '@apuriruuu gandengan sama yg lain',\n",
              " '@yusuf_dumdum Balik ke jaman purba, sdh ada JAKI yg lebih efektif',\n",
              " '@dapitdong Produk GA itu Gubernur !! 😂 (GAbener) 🤣\\n\\nWooyy.. Gw pake aplikasi “JAKI” utk sekedar komplain selokan mampet.. besoknya langsung dikeroyok PPSU itu got sebelah..\\nIni gubernur hasi GA malah balik manual lagi 😂😂 DobhoL… dobhoL 😂',\n",
              " \"@KidNarco Jaki was definitely the best musician in the band. But I'm a big fan of Michael Karoli aka the Anti-Gilmour.\",\n",
              " '@detikcom Lhaa kok mundur??\\n\\nSudah ada aplikasi Jaki..masa mundur pakai laporan manual??\\n😅😅',\n",
              " '@HSTopDecks @KamilGalant1 @PlayHearthstone O fuck jaki szok 😮😮',\n",
              " '@yusuf_dumdum Lah ngapain jauh2 ke balaikota tinggal buka jaki makanya keluar dr kolam',\n",
              " 'Ten Jaki naiwny... https://t.co/BRXD9zUDNP',\n",
              " 'rekomendasi earthtone slingbag \\U0001fab9\\n\\n—thread\\n\\nbangtan we will wait for you army jaki nokia semoga 2025 editan editan wamil seokjin itzy sarah ipad macbook pinggang slingbag racun shopee jakarta indonesia senin murah voting kepribadian #ForeverWithBTS #apobangpo https://t.co/tWXE844yPC',\n",
              " 'Udah ada aplikasi JAKI yg sdh berjalan baik dab efesien serta pelayanannya cepat tanggap, malah pakai aplikasi manual. Kasihan rakyat Jkta habis waktu dan biaya utk datang mengadu ke balai kota. https://t.co/YaojkmRnJT',\n",
              " 'di aplikasi pengaduan warga Jakarta (jaki/qlue) mohon tampilkan proyek galian kabel yg melewati trotoar. biar warga bisa cek kalau proyek selesai dan trotoar ditutup asal2an bisa langsung ajukan komplain.\\nbantu RT kan @kurawa',\n",
              " '@Urrangawak Sdh ada JAKI yg lebih mudah, murah, cepat',\n",
              " '@seasssh pedes ya',\n",
              " '@yusuf_dumdum Nggak deh terima kasih. Lebih nyaman dan lebih cepat ditanggapi pake aplikasi JAKI ini sih. 🤪 https://t.co/7447hzWhKi',\n",
              " 'Ga ada maksud membela Ahok ataupun menjelekkan Anies, tapi jauh sebelum ada JAKI ada nama aplikasi namanya Qlue. Jadi saat itu, Pemprov DKI Jakarta bikin 2 model, bagi masyarakat yang tidak punya android atau IOS bisa lapor langsung ke Balai Kota.\\nBegitu si Mas pendapat saya... https://t.co/AXvmssVakJ',\n",
              " '@netralitasrakyt @detikcom Pdhl kmrn udah ngadu lewat aplikasi JAKI ya',\n",
              " 'Pemerintah terus berupaya menangkis segala ancaman &amp; fokus meningkatkan pertumbuhan ekonomi RI\\n\\nNokia Nico Robin Wamil MacBook Blitar Sarah WE TRUST YOU Pinggang #석진아사랑해하트 #apobangpo #ForeverWithBTS #I_AM_ANTIFRAGILE JAKI ITZY LE SSERAFIM iPad #MEWxSUHO Airlangga Hartarto https://t.co/N0XqQodO6D',\n",
              " '@firman__nurhuda @LaporGub_ @jaki @ABisaapa @SuryadiGatot @NobowoNonowo @SugihTonpoBondo @JarnasABW @SaveAhok @TetapAhok https://t.co/YImNOyKUAJ',\n",
              " 'Penjabat Gubernur DKI Jakarta Heru Budi Hartono mengisyaratkan bahwa aplikasi layanan masyarakat Jakarta Kini (JAKI) tetap berjalan. https://t.co/yXngKLMRcG',\n",
              " '@adisatya @oposan007 @petanijogja1 @VIVAcoid Jaman semakin maju.. kata pak jokowi industri 4.0 diciptakanlah JAKI\\nEhhh.. malah balik jaman batu buka posko \\nTAMBAH MUNDURR..',\n",
              " '@lupadiri0_0 @LaporGub_ @jaki @ABisaapa @SuryadiGatot @NobowoNonowo @SugihTonpoBondo @JarnasABW @SaveAhok @TetapAhok Kurang update.? Jika ada Yang membuka identitas akan diberi sanksi dan dilakukan evaluasi.\\n\\nBaca \\nhttps://t.co/stOVq2u4Y2',\n",
              " '@detikcom Ada apps JAKI. Pengaduan apapun lewat situ n bisa anonim. Jd masy jakarta ga perlu capek2 ke balai kota utk pengaduan. Klo ga ada hp tinggal dtg ke RT RW kelurahan. Nanti petugas yg buat laporan di JAKI atau langsung ditangani sesuai wewenangnya. Jgn balik ke jaman batu pak. 🤦\\u200d♂️',\n",
              " '@detikcom Padahal udah ada JAKI, lebih mudah, murah, cepat',\n",
              " '.. \"CZERWONY SZTANDAR\" .. \\n\\n.. ŁOPOCE ..\\n\\n.. NAZISTOWSKI I BOLSZEWICKI .. \\n\\n.. A .. JAKI JEST NA NIM .. \"SYMBOL\" .. \\n\\n.. WAŻNIEJSZY .. OD .. \"BARWY KRWI\" ..\\n\\n.. NIE MA .. JAK MYŚLISZ .. \\n\\n.. UPAMIĘTNIENIA W TYM .. PRZELANEJ KRWI ROBOTNICZEJ ..',\n",
              " 'JAKI SLOTKI https://t.co/4StJ3bSIOA',\n",
              " '@VIVAcoid Udah ada aplikasi mobile jaki kan? Kok balik cara jadul begini?',\n",
              " '@willytja @enddrue @VIVAcoid Selain di aplikasi JAKi, pengaduan juga dioptimalkan di kelurahan, karena lurah yang paham bener sama warganya dan bisa cepat potong kompas birokrasi aduan dan berjalan selama ini.\\n\\nJangan lupa balik ke jakarta makanya',\n",
              " '@oposan007 @Wandystjk Woi goblok...daridulu juga ada laporna gitu....tapi masalah tanah diserobot apa bisa lapor lwat jaki??? Paling dicuekin jugabdrunn',\n",
              " '@Miduk17 Gak perlu ngadu langsung, udah ada aplikasi JAKI, udh modern, memanfaatkan teknolgi, kan sesuatu arahan Jokowi era 4.0',\n",
              " '@syaipul007rahm1 @yusuf_dumdum Elu ahli IT web lapor presiden, kominfo ato telkom kali yg kagak pernah jelas penanganan aduan-aduannya 🤣🤣🤣\\nSepanjang pengalaman lapor lewat JAKI, kagak pernah lbh dr 5 hari selese soalnya. Bhkn sekedar laporan sumbatan sampah aja langsung ditangani\\nhttps://t.co/OH26bAppc0).',\n",
              " 'Sebagai warga @jabarprovgoid ogud ngiri euy sama layanan jaki. Entah kapan kang @ridwankamil mengadopsi super penting aplikasi ini. 😔 https://t.co/KX7ow3hPRM',\n",
              " '@CNNIndonesia Ya terserah si kalau mau buka posko pengaduan... Cuma harapan gue Jaki jangan di nonaktifkan dan semoga tetep fast respon... Asli Jaki itu wadah yang cukup gercep dan gak usah pergi jauh-jauh ke posko... udah jamannya digitalisasi agak kurang aja si kl masih ngandelin beginian...',\n",
              " '@republikaonline Kan udah ada JAKI',\n",
              " '@yusuf_dumdum Zaman era digital masih pakai pengaduan secara offline? Tinggal laporkan saja setiap ada permasalahan via jaki. Kembali ke zaman ahok berarti kemunduran.',\n",
              " '@detikcom Yaaahhh… 🤣🤣 Tolol !\\nTinggal buka “JAKI” .. ngadu… langsung ditangani. Ini malah balik ke zaman pencitraan',\n",
              " '@DejfDawid Jaki bug itema?',\n",
              " '@muhammad_husnil @DKIJakarta Lapr ke jaki kok ada kasus rumah wnada hamidah tiba2  diaku yapto ya?? Haahah....kadrunn..kadruunnn',\n",
              " '@cilaiueoo ga pernah ngrasain',\n",
              " '@m_kaluzny Jaki debil',\n",
              " '@memefess ini siapa',\n",
              " '@nobi_zen Segitu bencinya sama Anies, sampe JAKI dikerdilkan secara massive oleh buzzerp.\\nJangan harap kota, provinsi bahkan negara bisa maju kalau buzzer gini masih diperlihara.',\n",
              " '@tanyakanrl Kayak orang orang yang gak pernah jadi presiden/pejabat tapi so paling ngerti dalam soal mengkritik dan kasih saran',\n",
              " '@setyoko_dedy @rh_dewa @DKIJakarta @HeruBudihartono Klu g ngadu ya g da penanganan mas, cba ss pngaduan d jaki nya,',\n",
              " '@CNNIndonesia Pada ribut sudah ada JAKI,  JAKI berjalan dan Pengaduan Di Balai Kota Berjalan Apa Susahnya',\n",
              " '@dapitdong Udah baik-baik pake JAKI. Aplikasi smart juara. Eh balik pake posko. Auto mundur 1 era. Wkw',\n",
              " '@oposan007 @petanijogja1 @VIVAcoid nah kalo gitu urgensinya bikin JAKI ???\\n\\nya sbnrnya kan tinggal upgrade fiturnya kalo memang kurang, sesimpel itu kan ?\\n\\ntoh fiturnya secara basic sama.\\n\\nmending utk program yg lain\\n\\nmakanya spt Pak Heru, ga ada kan hapus JAKI.....',\n",
              " '~Rekomendasi Kulot Wanita cocok dipake ngampus/hangout✨️\\n\\n-a thread\\n\\nmacbook editan ipad sarah rest of my life wamil semoga 2025 MEWxSUHO soyeon SMTreatRENJUNBetter Nxde blitar I_AM_ANTIFRAGILE ForeverWithBTS jaki apobangpo we trust you we will wait for you le sserafim nokia https://t.co/YlsTCF3wXW',\n",
              " 'Satgas Bina Marga Kecamatan Grogol Petamburan, Senin (17/10), memperbaiki jalan berlubang dan trotoar rusak di tiga lokasi berbeda.\\n\\n#BacadiBJ\\n#BeritaJakarta\\n#DKIJakarta\\n#JAKI\\n#WeLoveJakarta\\n\\nhttps://t.co/Wn3eyUxvee']"
            ]
          },
          "metadata": {},
          "execution_count": 22
        }
      ]
    },
    {
      "cell_type": "code",
      "source": [
        "!pip install Sastrawi"
      ],
      "metadata": {
        "colab": {
          "base_uri": "https://localhost:8080/"
        },
        "id": "3df-HN-6ykXp",
        "outputId": "1f6f15fe-fa22-480b-c8f1-19d6f5753cb9"
      },
      "execution_count": 8,
      "outputs": [
        {
          "output_type": "stream",
          "name": "stdout",
          "text": [
            "Looking in indexes: https://pypi.org/simple, https://us-python.pkg.dev/colab-wheels/public/simple/\n",
            "Collecting Sastrawi\n",
            "  Downloading Sastrawi-1.0.1-py2.py3-none-any.whl (209 kB)\n",
            "\u001b[K     |████████████████████████████████| 209 kB 5.1 MB/s \n",
            "\u001b[?25hInstalling collected packages: Sastrawi\n",
            "Successfully installed Sastrawi-1.0.1\n"
          ]
        }
      ]
    },
    {
      "cell_type": "markdown",
      "source": [
        "# **Melakukan Proses Stemming**"
      ],
      "metadata": {
        "id": "YZCrjhVi5-0X"
      }
    },
    {
      "cell_type": "code",
      "source": [
        "import re\n",
        "import string\n",
        "from Sastrawi.Stemmer.StemmerFactory import StemmerFactory# create stemmer\n",
        "factory = StemmerFactory()\n",
        "stemmer = factory.create_stemmer()# stemming process\n",
        "# import StopWordRemoverFactory class\n",
        "from Sastrawi.StopWordRemover.StopWordRemoverFactory import StopWordRemoverFactory\n",
        "factory = StopWordRemoverFactory()\n",
        "stopword = factory.create_stop_word_remover()\n",
        "documents_clean=[]\n",
        "\n",
        "for d in datatwitt:\n",
        "    outputstem= stemmer.stem(d)\n",
        "    d= stopword.remove(outputstem)\n",
        "    # Remove Unicode\n",
        "    document_test = re.sub(r'[^\\x00-\\x7F]+', ' ', d)\n",
        "    # Remove Mentions\n",
        "    document_test = re.sub(r'@\\w+', '', document_test)\n",
        "    # Lowercase the document\n",
        "    document_test = document_test.lower()\n",
        "    # Remove punctuations\n",
        "    document_test = re.sub(r'[%s]' % re.escape(string.punctuation), ' ', document_test)\n",
        "    # Lowercase the numbers\n",
        "    document_test = re.sub(r'[0-9]', '', document_test)\n",
        "    # Remove the doubled space\n",
        "    outputstop = re.sub(r'\\s{2,}', ' ', document_test)\n",
        "    documents_clean.append(outputstop)"
      ],
      "metadata": {
        "id": "vWr-8WYryuTB"
      },
      "execution_count": 23,
      "outputs": []
    },
    {
      "cell_type": "code",
      "source": [
        "documents_clean[0:10]"
      ],
      "metadata": {
        "colab": {
          "base_uri": "https://localhost:8080/"
        },
        "id": "tMHst6q9y0V2",
        "outputId": "7437208c-7dfb-4bd3-daa2-7e13c27fe977"
      },
      "execution_count": 29,
      "outputs": [
        {
          "output_type": "execute_result",
          "data": {
            "text/plain": [
              "['arifinpribadi cnnindonesia jaki cukup modal kuota sedikit responnya lebih cepat banding kena macet panas hujan utk dateng balaikota',\n",
              " 'cod converse s hi black white egret original sneakers casual pria wanita diskon rate https t co jtojjcywq rest of my life moga edit baekhyun wamil itzy jaki le sserafim apobangpo smtreatrenjunbetter mewxsuho btsjin https t co sretmntbi',\n",
              " 'selamat malam lampung timur kamu jadi chef punya restoran makan apa akan kamu saji kode referral seabank fbdbca jaki',\n",
              " 'asumsico kan jaki pak',\n",
              " 'era jahiliah buka aplikasi jaki lapor respon realtime langsung tindak era digital brgkt dr rmh naik jaklingko rp gak tau nyambung busway turun halte dpn balkot antri adu catat tunggu disposisi dinas yg kait maju versi yusuf dumbdumb',\n",
              " 'thesprinklescat happy gotcha day sprinkles jaki catsoftwitter',\n",
              " 'black amp white outfit reccommendation thread bangtan we will wait for you army jaki nokia moga edit edit wamil seokjin itzy sarah ipad macbook pinggang slingbag racun shopee jakarta indonesia senin murah voting pribadi ootd outfit foreverwithbts apobangpo https t co uqmscbq',\n",
              " 'cnnindonesia jaki buat apa buka lapak',\n",
              " 'blindpebbles agreed pebbles jaki catsoftwitter',\n",
              " 'assislovee dileepbi actresspalace actrezzzworld memeszone menmoansc kjohn shanuu halwathundu celebassworld zemo actress jaki']"
            ]
          },
          "metadata": {},
          "execution_count": 29
        }
      ]
    },
    {
      "cell_type": "code",
      "source": [
        "from sklearn.feature_extraction.text import TfidfVectorizer\n",
        "import pandas as pd\n",
        "tfidfvectorizer = TfidfVectorizer(analyzer='word')\n",
        "tfidf_wm = tfidfvectorizer.fit_transform(documents_clean)\n",
        "tfidf_tokens = tfidfvectorizer.get_feature_names()"
      ],
      "metadata": {
        "colab": {
          "base_uri": "https://localhost:8080/"
        },
        "id": "a1q6GgFey_rj",
        "outputId": "690af35e-7c59-40a7-e69d-9b87927ede4c"
      },
      "execution_count": 25,
      "outputs": [
        {
          "output_type": "stream",
          "name": "stderr",
          "text": [
            "/usr/local/lib/python3.7/dist-packages/sklearn/utils/deprecation.py:87: FutureWarning: Function get_feature_names is deprecated; get_feature_names is deprecated in 1.0 and will be removed in 1.2. Please use get_feature_names_out instead.\n",
            "  warnings.warn(msg, category=FutureWarning)\n"
          ]
        }
      ]
    },
    {
      "cell_type": "code",
      "source": [
        "from sklearn.feature_extraction.text import CountVectorizer \n",
        "import matplotlib.pyplot as plt\n",
        "import numpy as np # linear algebra\n",
        "import pandas as pd # data processing, CSV file I/O (e.g. pd.read_csv)\n",
        "cv = CountVectorizer()\n",
        "words = cv.fit_transform(documents_clean)\n",
        "sum_words = words.sum(axis=0)\n",
        "\n",
        "\n",
        "words_freq = [(word, sum_words[0, idx]) for word, idx in cv.vocabulary_.items()]\n",
        "words_freq = sorted(words_freq, key = lambda x: x[1], reverse = True)\n",
        "frequency = pd.DataFrame(words_freq, columns=['word', 'freq'])\n",
        "\n",
        "color = plt.cm.twilight(np.linspace(0, 1, 20))\n",
        "frequency.head(20).plot(x='word', y='freq', kind='bar', figsize=(15, 7), color = color)\n",
        "plt.title(\"Most Frequently Occuring Words - Top 20\")"
      ],
      "metadata": {
        "colab": {
          "base_uri": "https://localhost:8080/",
          "height": 512
        },
        "id": "8SMVDWgezGne",
        "outputId": "5217a2be-8795-4554-f2ae-c37609b96c2c"
      },
      "execution_count": 30,
      "outputs": [
        {
          "output_type": "execute_result",
          "data": {
            "text/plain": [
              "Text(0.5, 1.0, 'Most Frequently Occuring Words - Top 20')"
            ]
          },
          "metadata": {},
          "execution_count": 30
        },
        {
          "output_type": "display_data",
          "data": {
            "text/plain": [
              "<Figure size 1080x504 with 1 Axes>"
            ],
            "image/png": "[encoded data removed]"
          },
          "metadata": {
            "needs_background": "light"
          }
        }
      ]
    },
    {
      "cell_type": "code",
      "source": [
        "from sklearn.cluster import KMeans\n",
        "true_k = 3\n",
        "model = KMeans(n_clusters=true_k, init='k-means++', max_iter=100, n_init=1)\n",
        "model.fit(words)"
      ],
      "metadata": {
        "colab": {
          "base_uri": "https://localhost:8080/"
        },
        "id": "tLug9-EbzOGB",
        "outputId": "a6a2b3b5-d755-43fa-bcdf-ad4f631123bd"
      },
      "execution_count": 31,
      "outputs": [
        {
          "output_type": "execute_result",
          "data": {
            "text/plain": [
              "KMeans(max_iter=100, n_clusters=3, n_init=1)"
            ]
          },
          "metadata": {},
          "execution_count": 31
        }
      ]
    },
    {
      "cell_type": "markdown",
      "source": [
        "***Menampilkan hasil cluster***"
      ],
      "metadata": {
        "id": "Vq3tayOw6Lq9"
      }
    },
    {
      "cell_type": "code",
      "source": [
        "order_centroids = model.cluster_centers_.argsort()[:, ::-1]\n",
        "terms = cv.get_feature_names()\n",
        "\n",
        "for i in range(true_k):\n",
        "    print(\"Cluster %d:\" % i),\n",
        "    for ind in order_centroids[i, :10]:\n",
        "        print(' %s' % terms[ind]),\n",
        "    print\n",
        "\n",
        "print(\"\\n\")"
      ],
      "metadata": {
        "colab": {
          "base_uri": "https://localhost:8080/"
        },
        "id": "4caGRdMCzajC",
        "outputId": "f385d732-8812-40ee-e5a1-1423b1d8a073"
      },
      "execution_count": 52,
      "outputs": [
        {
          "output_type": "stream",
          "name": "stdout",
          "text": [
            "Cluster 0:\n",
            " jaki\n",
            " co\n",
            " https\n",
            " aplikasi\n",
            " yg\n",
            " adu\n",
            " jaman\n",
            " udah\n",
            " detikcom\n",
            " jakarta\n",
            "Cluster 1:\n",
            " ga\n",
            " jaki\n",
            " aplikasi\n",
            " drun\n",
            " gubernur\n",
            " mau\n",
            " malah\n",
            " ahok\n",
            " adu\n",
            " yg\n",
            "Cluster 2:\n",
            " warga\n",
            " jakarta\n",
            " baca\n",
            " kerja\n",
            " rasa\n",
            " jaki\n",
            " hansssolo\n",
            " pantesan\n",
            " gak\n",
            " kota\n",
            "\n",
            "\n"
          ]
        }
      ]
    },
    {
      "cell_type": "markdown",
      "source": [
        "***Input prediksi kata tertentu***"
      ],
      "metadata": {
        "id": "GDPotP566R0S"
      }
    },
    {
      "cell_type": "code",
      "source": [
        "print(\"Prediction\")\n",
        "Y = cv.transform([\"jakarta\"])\n",
        "prediction = model.predict(Y)\n",
        "print(\"Cluster number :\", prediction)\n",
        "Y = cv.transform([\"kota\"])\n",
        "prediction = model.predict(Y)\n",
        "print(\"Cluster number :\", prediction)"
      ],
      "metadata": {
        "colab": {
          "base_uri": "https://localhost:8080/"
        },
        "id": "uwknxVv0z4F4",
        "outputId": "4892c8a8-fbf5-409a-bcad-42d114d74004"
      },
      "execution_count": 55,
      "outputs": [
        {
          "output_type": "stream",
          "name": "stdout",
          "text": [
            "Prediction\n",
            "Cluster number : [0]\n",
            "Cluster number : [0]\n"
          ]
        }
      ]
    },
    {
      "cell_type": "markdown",
      "source": [
        "# **Menampilkan Grafik**"
      ],
      "metadata": {
        "id": "raRmfhiP6jFo"
      }
    },
    {
      "cell_type": "markdown",
      "source": [
        "***Grafik Dendogram***"
      ],
      "metadata": {
        "id": "2uWiLOeW68PX"
      }
    },
    {
      "cell_type": "code",
      "source": [
        "import scipy.cluster.hierarchy as sch\n",
        "X = cv.fit_transform(documents_clean).todense()\n",
        "dendrogram = sch.dendrogram(sch.linkage(X, method = 'ward',metric='euclidean'),orientation=\"top\")\n",
        "plt.title('Dendrogram')\n",
        "plt.xlabel('Jarak Ward')\n",
        "plt.ylabel('Nomor Dokumen')\n",
        "plt.show()"
      ],
      "metadata": {
        "colab": {
          "base_uri": "https://localhost:8080/",
          "height": 295
        },
        "id": "03iAIfN04Cj9",
        "outputId": "dd8efc81-d857-4f1f-fea8-979c2b0f9f82"
      },
      "execution_count": 47,
      "outputs": [
        {
          "output_type": "display_data",
          "data": {
            "text/plain": [
              "<Figure size 432x288 with 1 Axes>"
            ],
            "image/png": "[encoded data removed]"
          },
          "metadata": {
            "needs_background": "light"
          }
        }
      ]
    },
    {
      "cell_type": "code",
      "source": [
        "import scipy.cluster.hierarchy as sch\n",
        "X = cv.fit_transform(documents_clean).todense()\n",
        "dendrogram = sch.dendrogram(sch.linkage(X, method = 'average',metric='euclidean'),orientation=\"right\")\n",
        "plt.title('Dendrogram')\n",
        "plt.xlabel('Jarak Rerata')\n",
        "plt.ylabel('Nomor Dokumen')\n",
        "plt.show()"
      ],
      "metadata": {
        "colab": {
          "base_uri": "https://localhost:8080/",
          "height": 295
        },
        "id": "t45eCBg34Qm2",
        "outputId": "a186495a-d403-4852-f5c0-0bbd34340580"
      },
      "execution_count": 43,
      "outputs": [
        {
          "output_type": "display_data",
          "data": {
            "text/plain": [
              "<Figure size 432x288 with 1 Axes>"
            ],
            "image/png": "[encoded data removed]"
          },
          "metadata": {
            "needs_background": "light"
          }
        }
      ]
    },
    {
      "cell_type": "markdown",
      "source": [
        "***Hasil dengan algoritma Agglomerative Clustering***"
      ],
      "metadata": {
        "id": "-Wi1kSyC7A6Q"
      }
    },
    {
      "cell_type": "code",
      "source": [
        "from sklearn.cluster import AgglomerativeClustering\n",
        "\n",
        "cluster = AgglomerativeClustering(n_clusters=6, affinity='euclidean', linkage='ward')  \n",
        "cluster.fit_predict(X) \n",
        "print(cluster.labels_)"
      ],
      "metadata": {
        "colab": {
          "base_uri": "https://localhost:8080/"
        },
        "id": "GV9654Io4RPk",
        "outputId": "bcaf0f71-c054-4892-dc36-1bdceb569fd1"
      },
      "execution_count": 45,
      "outputs": [
        {
          "output_type": "stream",
          "name": "stdout",
          "text": [
            "[0 1 0 0 2 0 1 0 0 0 0 0 0 0 0 2 0 2 1 0 0 0 2 0 1 0 0 0 2 1 0 0 0 0 0 0 3\n",
            " 0 0 0 0 2 1 2 0 0 0 0 0 0 0 0 0 0 0 0 0 0 0 0 0 0 0 0 0 0 0 2 0 0 0 0 4 0\n",
            " 0 2 0 0 0 0 0 1 2 2 0 0 0 0 0 1 0 2 0 0 2 0 0 0 0 2 0 0 5 0 2 0 0 0 0 0 0\n",
            " 0 0 0 0 0 0 0 2 1 0]\n"
          ]
        },
        {
          "output_type": "stream",
          "name": "stderr",
          "text": [
            "/usr/local/lib/python3.7/dist-packages/sklearn/utils/validation.py:598: FutureWarning: np.matrix usage is deprecated in 1.0 and will raise a TypeError in 1.2. Please convert to a numpy array with np.asarray. For more information see: https://numpy.org/doc/stable/reference/generated/numpy.matrix.html\n",
            "  FutureWarning,\n"
          ]
        }
      ]
    },
    {
      "cell_type": "code",
      "source": [
        "from scipy.cluster.hierarchy import dendrogram, linkage\n",
        "from matplotlib import pyplot as plt\n",
        "\n",
        "linked = linkage(X, 'single')\n",
        "\n",
        "labelList = range(0, len(cluster.labels_))\n",
        "\n",
        "plt.figure(figsize=(15, 10))\n",
        "dendrogram(linked,\n",
        "            orientation='top',\n",
        "            labels=labelList,\n",
        "            distance_sort='descending',\n",
        "            show_leaf_counts=True)\n",
        "plt.show()"
      ],
      "metadata": {
        "colab": {
          "base_uri": "https://localhost:8080/",
          "height": 591
        },
        "id": "u4hpdmvv4VnF",
        "outputId": "ab042869-82e9-4a07-f4c6-4d0c14e1077b"
      },
      "execution_count": 49,
      "outputs": [
        {
          "output_type": "display_data",
          "data": {
            "text/plain": [
              "<Figure size 1080x720 with 1 Axes>"
            ],
            "image/png": "[encoded data removed]"
          },
          "metadata": {
            "needs_background": "light"
          }
        }
      ]
    },
    {
      "cell_type": "code",
      "source": [
        "from sklearn.cluster import AgglomerativeClustering\n",
        "\n",
        "cluster = AgglomerativeClustering(n_clusters=6, affinity='euclidean', linkage='single')  \n",
        "cluster.fit_predict(X) \n",
        "print(cluster.labels_)"
      ],
      "metadata": {
        "colab": {
          "base_uri": "https://localhost:8080/"
        },
        "id": "8HWhIn914n9_",
        "outputId": "239987f1-3179-48be-9b32-af7e7d01181f"
      },
      "execution_count": 50,
      "outputs": [
        {
          "output_type": "stream",
          "name": "stdout",
          "text": [
            "[0 0 0 0 0 0 0 0 0 0 0 0 0 0 0 0 0 5 0 0 0 0 0 0 0 0 0 0 0 0 0 0 0 0 0 0 3\n",
            " 0 0 0 0 0 0 0 0 0 0 0 0 0 0 0 0 0 0 0 0 0 0 0 0 0 0 0 0 0 0 2 0 0 0 0 4 0\n",
            " 0 0 0 0 0 0 0 0 0 0 0 0 0 0 0 0 0 0 0 0 0 0 0 0 0 0 0 0 1 0 0 0 0 0 0 0 0\n",
            " 0 0 0 0 0 0 0 0 0 0]\n"
          ]
        },
        {
          "output_type": "stream",
          "name": "stderr",
          "text": [
            "/usr/local/lib/python3.7/dist-packages/sklearn/utils/validation.py:598: FutureWarning: np.matrix usage is deprecated in 1.0 and will raise a TypeError in 1.2. Please convert to a numpy array with np.asarray. For more information see: https://numpy.org/doc/stable/reference/generated/numpy.matrix.html\n",
            "  FutureWarning,\n"
          ]
        }
      ]
    }
  ]
}